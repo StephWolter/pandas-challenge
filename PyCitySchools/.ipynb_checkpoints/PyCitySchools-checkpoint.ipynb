{
 "cells": [
  {
   "cell_type": "markdown",
   "id": "dfdfe715",
   "metadata": {},
   "source": [
    "# PyCity Schools Analysis\n",
    "\n",
    "* \n",
    "\n",
    "* \n",
    "\n",
    "* "
   ]
  },
  {
   "cell_type": "code",
   "execution_count": 475,
   "id": "cc5b94af",
   "metadata": {},
   "outputs": [
    {
     "name": "stdout",
     "output_type": "stream",
     "text": [
      "       Student ID       student_name gender grade         school_name  \\\n",
      "0               0       Paul Bradley      M   9th   Huang High School   \n",
      "1               1       Victor Smith      M  12th   Huang High School   \n",
      "2               2    Kevin Rodriguez      M  12th   Huang High School   \n",
      "3               3  Dr. Richard Scott      M  12th   Huang High School   \n",
      "4               4         Bonnie Ray      F   9th   Huang High School   \n",
      "...           ...                ...    ...   ...                 ...   \n",
      "39165       39165       Donna Howard      F  12th  Thomas High School   \n",
      "39166       39166          Dawn Bell      F  10th  Thomas High School   \n",
      "39167       39167     Rebecca Tanner      F   9th  Thomas High School   \n",
      "39168       39168       Desiree Kidd      F  10th  Thomas High School   \n",
      "39169       39169    Carolyn Jackson      F  11th  Thomas High School   \n",
      "\n",
      "       reading_score  math_score  School ID      type  size   budget  \\\n",
      "0                 66          79          0  District  2917  1910635   \n",
      "1                 94          61          0  District  2917  1910635   \n",
      "2                 90          60          0  District  2917  1910635   \n",
      "3                 67          58          0  District  2917  1910635   \n",
      "4                 97          84          0  District  2917  1910635   \n",
      "...              ...         ...        ...       ...   ...      ...   \n",
      "39165             99          90         14   Charter  1635  1043130   \n",
      "39166             95          70         14   Charter  1635  1043130   \n",
      "39167             73          84         14   Charter  1635  1043130   \n",
      "39168             99          90         14   Charter  1635  1043130   \n",
      "39169             95          75         14   Charter  1635  1043130   \n",
      "\n",
      "      passfail_math passfail_reading  \n",
      "0              Pass             Fail  \n",
      "1              Fail             Pass  \n",
      "2              Fail             Pass  \n",
      "3              Fail             Fail  \n",
      "4              Pass             Pass  \n",
      "...             ...              ...  \n",
      "39165          Pass             Pass  \n",
      "39166          Fail             Pass  \n",
      "39167          Pass             Pass  \n",
      "39168          Pass             Pass  \n",
      "39169          Pass             Pass  \n",
      "\n",
      "[39170 rows x 13 columns]\n"
     ]
    }
   ],
   "source": [
    "# import libraries\n",
    "import pandas as pd\n",
    "import numpy as np\n",
    "\n",
    "school_data_csv = (\"../Resources/schools_complete.csv\")\n",
    "student_data_csv = (\"../Resources/students_complete.csv\")\n",
    "\n",
    "# store csv files as dataframes\n",
    "school_data = pd.read_csv(school_data_csv)\n",
    "student_data = pd.read_csv(student_data_csv)\n",
    "\n",
    "# Create single dataset.  \n",
    "school_data_complete = pd.merge(student_data, school_data, how=\"left\", on=[\"school_name\", \"school_name\"])\n",
    "\n",
    "# Create the pass/fail bins \n",
    "grades = [0,70,100]\n",
    "\n",
    "# Create the names for the grades and add pass/fail columns to the df for later calculations\n",
    "PassFail = [\"Fail\",\"Pass\"]\n",
    "\n",
    "# Add columns to original data with pass/fail columns for later calculations\n",
    "school_data_complete[\"passfail_math\"] = pd.cut(school_data_complete[\"math_score\"], grades, labels=PassFail, include_lowest=True)\n",
    "school_data_complete[\"passfail_reading\"] = pd.cut(school_data_complete[\"reading_score\"], grades, labels=PassFail, include_lowest=True)\n",
    "\n",
    "print(school_data_complete)"
   ]
  },
  {
   "cell_type": "code",
   "execution_count": 476,
   "id": "75219fc7",
   "metadata": {
    "scrolled": true
   },
   "outputs": [
    {
     "name": "stdout",
     "output_type": "stream",
     "text": [
      "15\n"
     ]
    }
   ],
   "source": [
    "# Calculate the total number of unique schools\n",
    "school_count = len(pd.unique(school_data_complete['school_name']))\n",
    "print(school_count)"
   ]
  },
  {
   "cell_type": "code",
   "execution_count": 477,
   "id": "64d190cc",
   "metadata": {},
   "outputs": [
    {
     "name": "stdout",
     "output_type": "stream",
     "text": [
      "39170\n"
     ]
    }
   ],
   "source": [
    "# Calculate the total number of students\n",
    "student_count = len(pd.unique(school_data_complete[\"Student ID\"])) \n",
    "print(student_count)"
   ]
  },
  {
   "cell_type": "code",
   "execution_count": 478,
   "id": "9885c238",
   "metadata": {},
   "outputs": [
    {
     "name": "stdout",
     "output_type": "stream",
     "text": [
      "24649428\n"
     ]
    }
   ],
   "source": [
    "# Create a summary of schools and budgets\n",
    "budget_all_students = pd.DataFrame(school_data_complete, columns=['school_name', 'budget', 'size'])\n",
    "\n",
    "# Create a summary of schools and budgets\n",
    "budget_all_students = pd.DataFrame(school_data_complete, columns=['school_name', 'budget', 'size'])\n",
    "\n",
    "# Modify to have unique school name values\n",
    "schools_budget_unique = budget_all_students.drop_duplicates(subset=[\"school_name\"], keep='first').reset_index()\n",
    "\n",
    "# Calculate total budget\n",
    "budget_total = schools_budget_unique[\"budget\"].sum()\n",
    "print(budget_total)\n",
    " "
   ]
  },
  {
   "cell_type": "code",
   "execution_count": 479,
   "id": "f23a91d3",
   "metadata": {},
   "outputs": [
    {
     "name": "stdout",
     "output_type": "stream",
     "text": [
      "78.98537145774827\n"
     ]
    }
   ],
   "source": [
    "# Calculate the average (mean) math score\n",
    "average_math_score = school_data_complete[\"math_score\"].mean()\n",
    "print(average_math_score)"
   ]
  },
  {
   "cell_type": "code",
   "execution_count": 480,
   "id": "96f8422c",
   "metadata": {},
   "outputs": [
    {
     "name": "stdout",
     "output_type": "stream",
     "text": [
      "81.87784018381414\n"
     ]
    }
   ],
   "source": [
    "# Calculate the average (mean) reading score\n",
    "average_reading_score = school_data_complete[\"reading_score\"].mean()\n",
    "print(average_reading_score)"
   ]
  },
  {
   "cell_type": "code",
   "execution_count": 481,
   "id": "501bc909",
   "metadata": {},
   "outputs": [
    {
     "name": "stdout",
     "output_type": "stream",
     "text": [
      "72.39213683941792\n"
     ]
    }
   ],
   "source": [
    "# Use the following to calculate the percentage of students who passed math (math scores greather than or equal to 70)\n",
    "passing_math_count = school_data_complete[(school_data_complete[\"passfail_math\"] == \"Pass\")].count()[\"Student ID\"]\n",
    "passing_math_percentage = passing_math_count / float(student_count) * 100\n",
    "print(passing_math_percentage)"
   ]
  },
  {
   "cell_type": "code",
   "execution_count": 482,
   "id": "f52f238f",
   "metadata": {},
   "outputs": [
    {
     "data": {
      "text/plain": [
       "82.97166198621395"
      ]
     },
     "execution_count": 482,
     "metadata": {},
     "output_type": "execute_result"
    }
   ],
   "source": [
    "# Calculate the percentage of students who passeed reading \n",
    "passing_reading_count = school_data_complete[(school_data_complete[\"passfail_reading\"] == \"Pass\")].count()[\"student_name\"]\n",
    "passing_reading_percentage = passing_reading_count / float(student_count) * 100\n",
    "passing_reading_percentage"
   ]
  },
  {
   "cell_type": "code",
   "execution_count": 483,
   "id": "2e1ce0b1",
   "metadata": {},
   "outputs": [
    {
     "name": "stdout",
     "output_type": "stream",
     "text": [
      "60.801633903497574\n"
     ]
    }
   ],
   "source": [
    "# Use the following to calculate the percentage of students that passed math and reading\n",
    "passing_math_reading_count = school_data_complete[\n",
    "    (school_data_complete[\"passfail_math\"] == \"Pass\") & (school_data_complete[\"passfail_reading\"] == \"Pass\")\n",
    "].count()[\"student_name\"]\n",
    "overall_passing_rate = passing_math_reading_count /  float(student_count) * 100\n",
    "print(overall_passing_rate)"
   ]
  },
  {
   "cell_type": "code",
   "execution_count": 484,
   "id": "e30a4a85",
   "metadata": {},
   "outputs": [
    {
     "name": "stdout",
     "output_type": "stream",
     "text": [
      "   Total Schools Total Students    Total Budget Average Math Score  \\\n",
      "0             15         39,170  $24,649,428.00              78.99   \n",
      "\n",
      "  Average Reading Score % Passing Math % Passing Reading % Overall Passing  \n",
      "0                 81.88         72.39%            82.97%            60.80%  \n"
     ]
    }
   ],
   "source": [
    "# Create a high-level snapshot of the district's key metrics in a DataFrame\n",
    "d_summary = {\"Total Schools\":[school_count],\"Total Students\":[student_count],\"Total Budget\":[budget_total],\"Average Math Score\":[average_math_score],\"Average Reading Score\":[average_reading_score],\"% Passing Math\":[passing_math_percentage],\"% Passing Reading\":[passing_reading_percentage],\"% Overall Passing\":[overall_passing_rate]}\n",
    "district_summary = pd.DataFrame(d_summary)\n",
    "\n",
    "# Formatting\n",
    "district_summary[\"Total Students\"] = district_summary[\"Total Students\"].map(\"{:,}\".format)\n",
    "district_summary[\"Total Budget\"] = district_summary[\"Total Budget\"].map(\"${:,.2f}\".format)\n",
    "district_summary[\"Average Math Score\"] = district_summary[\"Average Math Score\"].map(\"{:,.2f}\".format)\n",
    "district_summary[\"Average Reading Score\"] = district_summary[\"Average Reading Score\"].map(\"{:,.2f}\".format)\n",
    "district_summary[\"% Passing Math\"] = district_summary[\"% Passing Math\"].map(\"{:,.2f}%\".format)\n",
    "district_summary[\"% Passing Reading\"] = district_summary[\"% Passing Reading\"].map(\"{:,.2f}%\".format)\n",
    "district_summary[\"% Overall Passing\"] = district_summary[\"% Overall Passing\"].map(\"{:,.2f}%\".format)\n",
    "\n",
    "# Display the DataFrame\n",
    "print(district_summary)"
   ]
  },
  {
   "cell_type": "markdown",
   "id": "19775e8b",
   "metadata": {},
   "source": [
    "## School Summary"
   ]
  },
  {
   "cell_type": "code",
   "execution_count": 485,
   "id": "c0ba4ef3",
   "metadata": {},
   "outputs": [],
   "source": [
    "# Use the code provided to select the school type\n",
    "school_types = school_data.set_index([\"school_name\"])[\"type\"]"
   ]
  },
  {
   "cell_type": "code",
   "execution_count": 486,
   "id": "7e8cef0a",
   "metadata": {
    "scrolled": true
   },
   "outputs": [
    {
     "name": "stdout",
     "output_type": "stream",
     "text": [
      "              school_name  student_count\n",
      "0      Bailey High School           4976\n",
      "1     Cabrera High School           1858\n",
      "2    Figueroa High School           2949\n",
      "3        Ford High School           2739\n",
      "4     Griffin High School           1468\n",
      "5   Hernandez High School           4635\n",
      "6      Holden High School            427\n",
      "7       Huang High School           2917\n",
      "8     Johnson High School           4761\n",
      "9        Pena High School            962\n",
      "10  Rodriguez High School           3999\n",
      "11    Shelton High School           1761\n",
      "12     Thomas High School           1635\n",
      "13     Wilson High School           2283\n",
      "14     Wright High School           1800\n"
     ]
    }
   ],
   "source": [
    "# Calculate the total student count\n",
    "per_school_counts = school_data_complete.groupby(['school_name'])[\"Student ID\"].count().reset_index()\n",
    "per_school_counts = per_school_counts.rename(columns={\"Student ID\": \"student_count\"})\n",
    "print(per_school_counts)"
   ]
  },
  {
   "cell_type": "code",
   "execution_count": 487,
   "id": "cf685934",
   "metadata": {},
   "outputs": [],
   "source": [
    "# Calculate the total school budget and per capita spending\n",
    "per_school_budget = school_data_complete.groupby([\"school_name\"]).mean()[\"budget\"]\n",
    "per_school_capita = per_school_budget / per_school_counts"
   ]
  },
  {
   "cell_type": "code",
   "execution_count": 488,
   "id": "15368388",
   "metadata": {},
   "outputs": [],
   "source": [
    "# Calculate the average test scores\n",
    "per_school_math = school_data_complete.groupby(['school_name'])['math_score'].mean().reset_index()\n",
    "per_school_reading = school_data_complete.groupby(['school_name'])['reading_score'].mean().reset_index()\n",
    "per_school_math = per_school_math.rename(columns={\"math_score\": \"avg_math_score\"})\n",
    "per_school_reading = per_school_reading.rename(columns={\"reading_score\": \"avg_reading_score\"})\n",
    "\n",
    "\n",
    "\n",
    "#print(per_school_reading)"
   ]
  },
  {
   "cell_type": "code",
   "execution_count": 489,
   "id": "33216fa4",
   "metadata": {},
   "outputs": [],
   "source": [
    "# Calculate the number of schools with math scores of 70 or higher\n",
    "per_school_math[\"passfail_math\"] = pd.cut(per_school_math[\"avg_math_score\"], grades, labels=PassFail, include_lowest=True)\n",
    "school_passing_math = len(per_school_math[\"passfail_math\"]==\"Pass\")\n",
    "\n",
    "\n"
   ]
  },
  {
   "cell_type": "code",
   "execution_count": 490,
   "id": "74768465",
   "metadata": {},
   "outputs": [
    {
     "name": "stdout",
     "output_type": "stream",
     "text": [
      "15\n"
     ]
    }
   ],
   "source": [
    "# Calculate the number of schools with reading scores of 70 or higher\n",
    "per_school_reading[\"passfail_reading\"] = pd.cut(per_school_reading[\"avg_reading_score\"], grades, labels=PassFail, include_lowest=True)\n",
    "school_passing_reading = len(per_school_reading[\"passfail_reading\"]==\"Pass\")\n",
    "\n",
    "print(school_passing_reading)"
   ]
  },
  {
   "cell_type": "code",
   "execution_count": null,
   "id": "5ed9b11a",
   "metadata": {},
   "outputs": [],
   "source": [
    "\n"
   ]
  },
  {
   "cell_type": "code",
   "execution_count": 491,
   "id": "9d64712e",
   "metadata": {},
   "outputs": [
    {
     "name": "stdout",
     "output_type": "stream",
     "text": [
      "              school_name  passed_both\n",
      "0      Bailey High School         2545\n",
      "1     Cabrera High School         1561\n",
      "2    Figueroa High School         1472\n",
      "3        Ford High School         1405\n",
      "4     Griffin High School         1228\n",
      "5   Hernandez High School         2325\n",
      "6      Holden High School          359\n",
      "7       Huang High School         1456\n",
      "8     Johnson High School         2371\n",
      "9        Pena High School          816\n",
      "10  Rodriguez High School         1977\n",
      "11    Shelton High School         1465\n",
      "12     Thomas High School         1378\n",
      "13     Wilson High School         1938\n",
      "14     Wright High School         1520\n"
     ]
    }
   ],
   "source": [
    "# Use the provided code to calculate the schools that passed both math and reading with scores of 70 or higher\n",
    "passing_math_and_reading = school_data_complete[\n",
    "    (school_data_complete[\"passfail_reading\"] == \"Pass\") & (school_data_complete[\"passfail_math\"] == \"Pass\")]\n",
    "passing_math_and_reading = passing_math_and_reading.drop([\"Student ID\",\"grade\",\"reading_score\",\"math_score\",\"gender\",\"School ID\",\"type\",\"size\",\"budget\"], axis=1)\n",
    "passing_math_and_reading_grouped = passing_math_and_reading.groupby([\"school_name\"])[\"passfail_math\"].count().reset_index()\n",
    "passing_math_and_reading_grouped = passing_math_and_reading_grouped.rename(columns={\"passfail_math\":\"passed_both\"})\n",
    "print(passing_math_and_reading_grouped)"
   ]
  },
  {
   "cell_type": "code",
   "execution_count": 500,
   "id": "c8c680af",
   "metadata": {},
   "outputs": [
    {
     "name": "stdout",
     "output_type": "stream",
     "text": [
      "              school_name  passed_math  passed_reading  passed_both\n",
      "0      Bailey High School         3216            3946         2545\n",
      "1     Cabrera High School         1664            1744         1561\n",
      "2    Figueroa High School         1880            2313         1472\n",
      "3        Ford High School         1801            2123         1405\n",
      "4     Griffin High School         1317            1371         1228\n",
      "5   Hernandez High School         3001            3624         2325\n",
      "6      Holden High School          387             396          359\n",
      "7       Huang High School         1847            2299         1456\n",
      "8     Johnson High School         3040            3727         2371\n",
      "9        Pena High School          882             887          816\n",
      "10  Rodriguez High School         2562            3109         1977\n",
      "11    Shelton High School         1583            1631         1465\n",
      "12     Thomas High School         1475            1519         1378\n",
      "13     Wilson High School         2076            2129         1938\n",
      "14     Wright High School         1625            1682         1520\n"
     ]
    }
   ],
   "source": [
    "# Calculating passing math and reading by school\n",
    "passing_math = school_data_complete[school_data_complete[\"passfail_math\"] == \"Pass\"]\n",
    "passing_reading = school_data_complete[school_data_complete[\"passfail_reading\"] == \"Pass\"]\n",
    "grouped_passing_math = passing_math.groupby(['school_name'])['passfail_math'].count().reset_index()\n",
    "grouped_passing_reading = passing_reading.groupby(['school_name'])['passfail_reading'].count().reset_index()\n",
    "#print(grouped_passing_math)\n",
    "\n",
    "# Create single dataset with pass/fails \n",
    "school_pass_fail_df = pd.merge(grouped_passing_math, grouped_passing_reading, how=\"left\", on=[\"school_name\", \"school_name\"])\n",
    "school_pass_fail_df = pd.merge(school_pass_fail_df,passing_math_and_reading_grouped,how=\"left\",on=[\"school_name\",\"school_name\"])\n",
    "school_pass_fail_df = school_pass_fail_df.rename(columns={\"passfail_math\": \"passed_math\", \"passfail_reading\":\"passed_reading\"})\n",
    "print(school_pass_fail_df)"
   ]
  },
  {
   "cell_type": "code",
   "execution_count": 502,
   "id": "5c0f3cba",
   "metadata": {},
   "outputs": [
    {
     "name": "stdout",
     "output_type": "stream",
     "text": [
      "              school_name  passed_math  passed_reading  passed_both  \\\n",
      "0      Bailey High School         3216            3946         2545   \n",
      "1     Cabrera High School         1664            1744         1561   \n",
      "2    Figueroa High School         1880            2313         1472   \n",
      "3        Ford High School         1801            2123         1405   \n",
      "4     Griffin High School         1317            1371         1228   \n",
      "5   Hernandez High School         3001            3624         2325   \n",
      "6      Holden High School          387             396          359   \n",
      "7       Huang High School         1847            2299         1456   \n",
      "8     Johnson High School         3040            3727         2371   \n",
      "9        Pena High School          882             887          816   \n",
      "10  Rodriguez High School         2562            3109         1977   \n",
      "11    Shelton High School         1583            1631         1465   \n",
      "12     Thomas High School         1475            1519         1378   \n",
      "13     Wilson High School         2076            2129         1938   \n",
      "14     Wright High School         1625            1682         1520   \n",
      "\n",
      "   % passed math % passed reading % passed both  \n",
      "0         64.63%           79.30%        51.15%  \n",
      "1         89.56%           93.86%        84.02%  \n",
      "2         63.75%           78.43%        49.92%  \n",
      "3         65.75%           77.51%        51.30%  \n",
      "4         89.71%           93.39%        83.65%  \n",
      "5         64.75%           78.19%        50.16%  \n",
      "6         90.63%           92.74%        84.07%  \n",
      "7         63.32%           78.81%        49.91%  \n",
      "8         63.85%           78.28%        49.80%  \n",
      "9         91.68%           92.20%        84.82%  \n",
      "10        64.07%           77.74%        49.44%  \n",
      "11        89.89%           92.62%        83.19%  \n",
      "12        90.21%           92.91%        84.28%  \n",
      "13        90.93%           93.25%        84.89%  \n",
      "14        90.28%           93.44%        84.44%  \n"
     ]
    }
   ],
   "source": [
    "school_pass_fail_df[\"% passed math\"] = school_pass_fail_df[\"passed_math\"] / per_school_counts[\"student_count\"] * 100\n",
    "school_pass_fail_df[\"% passed reading\"] = school_pass_fail_df[\"passed_reading\"] / per_school_counts[\"student_count\"] * 100\n",
    "school_pass_fail_df[\"% passed both\"] = school_pass_fail_df[\"passed_both\"] / per_school_counts[\"student_count\"] * 100\n",
    "school_pass_fail_df[\"% passed math\"] = school_pass_fail_df[\"% passed math\"].map(\"{:,.2f}%\".format)\n",
    "school_pass_fail_df[\"% passed reading\"] = school_pass_fail_df[\"% passed reading\"].map(\"{:,.2f}%\".format)\n",
    "school_pass_fail_df[\"% passed both\"] = school_pass_fail_df[\"% passed both\"].map(\"{:,.2f}%\".format)\n",
    "print(school_pass_fail_df)"
   ]
  },
  {
   "cell_type": "code",
   "execution_count": null,
   "id": "4a3e380c",
   "metadata": {},
   "outputs": [],
   "source": []
  },
  {
   "cell_type": "code",
   "execution_count": null,
   "id": "07307eb8",
   "metadata": {},
   "outputs": [],
   "source": []
  },
  {
   "cell_type": "code",
   "execution_count": 494,
   "id": "b8ab7532",
   "metadata": {},
   "outputs": [],
   "source": [
    "\n",
    "\n",
    "\n",
    "\n",
    "\n",
    "\n",
    "# Count of total passes/fails for the percentage rate\n",
    "total_pass_reading = (school_data_complete['passfail_reading'].value_counts()['Pass'])\n",
    "#print(total_pass_reading)\n",
    "\n",
    "total_pass_math = (school_data_complete['passfail_math'].value_counts()['Pass'])\n",
    "#print(total_pass_math)\n",
    "\n",
    "total_fail_reading = (school_data_complete['passfail_reading'].value_counts()['Fail'])\n",
    "#print(total_fail_reading)\n",
    "\n",
    "total_fail_math = (school_data_complete['passfail_math'].value_counts()['Fail'])\n",
    "#print(total_fail_math)"
   ]
  },
  {
   "cell_type": "code",
   "execution_count": null,
   "id": "a5108bd8",
   "metadata": {},
   "outputs": [],
   "source": [
    "\n",
    "\n"
   ]
  },
  {
   "cell_type": "code",
   "execution_count": null,
   "id": "8e66c107",
   "metadata": {},
   "outputs": [],
   "source": []
  },
  {
   "cell_type": "code",
   "execution_count": null,
   "id": "a78f06a8",
   "metadata": {},
   "outputs": [],
   "source": []
  },
  {
   "cell_type": "code",
   "execution_count": null,
   "id": "cdfbdeee",
   "metadata": {},
   "outputs": [],
   "source": []
  }
 ],
 "metadata": {
  "kernelspec": {
   "display_name": "Python 3 (ipykernel)",
   "language": "python",
   "name": "python3"
  },
  "language_info": {
   "codemirror_mode": {
    "name": "ipython",
    "version": 3
   },
   "file_extension": ".py",
   "mimetype": "text/x-python",
   "name": "python",
   "nbconvert_exporter": "python",
   "pygments_lexer": "ipython3",
   "version": "3.9.13"
  }
 },
 "nbformat": 4,
 "nbformat_minor": 5
}
