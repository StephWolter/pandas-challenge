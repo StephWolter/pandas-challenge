{
 "cells": [
  {
   "cell_type": "markdown",
   "id": "dfdfe715",
   "metadata": {},
   "source": [
    "# PyCity Schools Analysis\n",
    "\n",
    "* \n",
    "\n",
    "* \n",
    "\n",
    "* "
   ]
  },
  {
   "cell_type": "code",
   "execution_count": 83,
   "id": "cc5b94af",
   "metadata": {},
   "outputs": [],
   "source": [
    "# import libraries\n",
    "import pandas as pd\n",
    "import numpy as np\n"
   ]
  },
  {
   "cell_type": "code",
   "execution_count": 84,
   "id": "75219fc7",
   "metadata": {
    "scrolled": true
   },
   "outputs": [],
   "source": [
    "school_data_csv = (\"../Resources/schools_complete.csv\")\n",
    "student_data_csv = (\"../Resources/students_complete.csv\")\n",
    "\n",
    "# store csv files as dataframes\n",
    "school_data = pd.read_csv(school_data_csv)\n",
    "student_data = pd.read_csv(student_data_csv)\n"
   ]
  },
  {
   "cell_type": "code",
   "execution_count": 85,
   "id": "5c0f3cba",
   "metadata": {},
   "outputs": [
    {
     "data": {
      "text/html": [
       "<div>\n",
       "<style scoped>\n",
       "    .dataframe tbody tr th:only-of-type {\n",
       "        vertical-align: middle;\n",
       "    }\n",
       "\n",
       "    .dataframe tbody tr th {\n",
       "        vertical-align: top;\n",
       "    }\n",
       "\n",
       "    .dataframe thead th {\n",
       "        text-align: right;\n",
       "    }\n",
       "</style>\n",
       "<table border=\"1\" class=\"dataframe\">\n",
       "  <thead>\n",
       "    <tr style=\"text-align: right;\">\n",
       "      <th></th>\n",
       "      <th>Student ID</th>\n",
       "      <th>student_name</th>\n",
       "      <th>gender</th>\n",
       "      <th>grade</th>\n",
       "      <th>school_name</th>\n",
       "      <th>reading_score</th>\n",
       "      <th>math_score</th>\n",
       "      <th>School ID</th>\n",
       "      <th>type</th>\n",
       "      <th>size</th>\n",
       "      <th>budget</th>\n",
       "      <th>passfail_reading</th>\n",
       "      <th>passfail_math</th>\n",
       "    </tr>\n",
       "  </thead>\n",
       "  <tbody>\n",
       "    <tr>\n",
       "      <th>0</th>\n",
       "      <td>0</td>\n",
       "      <td>Paul Bradley</td>\n",
       "      <td>M</td>\n",
       "      <td>9th</td>\n",
       "      <td>Huang High School</td>\n",
       "      <td>66</td>\n",
       "      <td>79</td>\n",
       "      <td>0</td>\n",
       "      <td>District</td>\n",
       "      <td>2917</td>\n",
       "      <td>1910635</td>\n",
       "      <td>Fail</td>\n",
       "      <td>Pass</td>\n",
       "    </tr>\n",
       "    <tr>\n",
       "      <th>1</th>\n",
       "      <td>1</td>\n",
       "      <td>Victor Smith</td>\n",
       "      <td>M</td>\n",
       "      <td>12th</td>\n",
       "      <td>Huang High School</td>\n",
       "      <td>94</td>\n",
       "      <td>61</td>\n",
       "      <td>0</td>\n",
       "      <td>District</td>\n",
       "      <td>2917</td>\n",
       "      <td>1910635</td>\n",
       "      <td>Pass</td>\n",
       "      <td>Fail</td>\n",
       "    </tr>\n",
       "    <tr>\n",
       "      <th>2</th>\n",
       "      <td>2</td>\n",
       "      <td>Kevin Rodriguez</td>\n",
       "      <td>M</td>\n",
       "      <td>12th</td>\n",
       "      <td>Huang High School</td>\n",
       "      <td>90</td>\n",
       "      <td>60</td>\n",
       "      <td>0</td>\n",
       "      <td>District</td>\n",
       "      <td>2917</td>\n",
       "      <td>1910635</td>\n",
       "      <td>Pass</td>\n",
       "      <td>Fail</td>\n",
       "    </tr>\n",
       "    <tr>\n",
       "      <th>3</th>\n",
       "      <td>3</td>\n",
       "      <td>Dr. Richard Scott</td>\n",
       "      <td>M</td>\n",
       "      <td>12th</td>\n",
       "      <td>Huang High School</td>\n",
       "      <td>67</td>\n",
       "      <td>58</td>\n",
       "      <td>0</td>\n",
       "      <td>District</td>\n",
       "      <td>2917</td>\n",
       "      <td>1910635</td>\n",
       "      <td>Fail</td>\n",
       "      <td>Fail</td>\n",
       "    </tr>\n",
       "    <tr>\n",
       "      <th>4</th>\n",
       "      <td>4</td>\n",
       "      <td>Bonnie Ray</td>\n",
       "      <td>F</td>\n",
       "      <td>9th</td>\n",
       "      <td>Huang High School</td>\n",
       "      <td>97</td>\n",
       "      <td>84</td>\n",
       "      <td>0</td>\n",
       "      <td>District</td>\n",
       "      <td>2917</td>\n",
       "      <td>1910635</td>\n",
       "      <td>Pass</td>\n",
       "      <td>Pass</td>\n",
       "    </tr>\n",
       "  </tbody>\n",
       "</table>\n",
       "</div>"
      ],
      "text/plain": [
       "   Student ID       student_name gender grade        school_name  \\\n",
       "0           0       Paul Bradley      M   9th  Huang High School   \n",
       "1           1       Victor Smith      M  12th  Huang High School   \n",
       "2           2    Kevin Rodriguez      M  12th  Huang High School   \n",
       "3           3  Dr. Richard Scott      M  12th  Huang High School   \n",
       "4           4         Bonnie Ray      F   9th  Huang High School   \n",
       "\n",
       "   reading_score  math_score  School ID      type  size   budget  \\\n",
       "0             66          79          0  District  2917  1910635   \n",
       "1             94          61          0  District  2917  1910635   \n",
       "2             90          60          0  District  2917  1910635   \n",
       "3             67          58          0  District  2917  1910635   \n",
       "4             97          84          0  District  2917  1910635   \n",
       "\n",
       "  passfail_reading passfail_math  \n",
       "0             Fail          Pass  \n",
       "1             Pass          Fail  \n",
       "2             Pass          Fail  \n",
       "3             Fail          Fail  \n",
       "4             Pass          Pass  "
      ]
     },
     "execution_count": 85,
     "metadata": {},
     "output_type": "execute_result"
    }
   ],
   "source": [
    "# Create single dataset.  \n",
    "school_data_complete = pd.merge(student_data, school_data, how=\"left\", on=[\"school_name\", \"school_name\"])\n",
    "# Create the pass/fail bins \n",
    "grades = [0,70,100]\n",
    "\n",
    "# Create the names for the grades and add pass/fail columns to the df\n",
    "PassFail = [\"Fail\",\"Pass\"]\n",
    "school_data_complete[\"passfail_reading\"] = pd.cut(school_data_complete[\"reading_score\"], grades, labels=PassFail, include_lowest=True)\n",
    "school_data_complete[\"passfail_math\"] = pd.cut(school_data_complete[\"math_score\"], grades, labels=PassFail, include_lowest=True)\n",
    "\n",
    "\n",
    "school_data_complete.head()\n",
    "\n"
   ]
  },
  {
   "cell_type": "code",
   "execution_count": 86,
   "id": "b8ab7532",
   "metadata": {},
   "outputs": [],
   "source": [
    "# Calculate the total number of unique schools\n",
    "school_count = len(pd.unique(school_data_complete['school_name']))\n",
    "\n",
    "# Calculate the total number of students\n",
    "student_count = len(pd.unique(school_data_complete[\"student_name\"])) \n",
    "\n",
    "# Create a summary of schools and budgets\n",
    "budget_all_students = pd.DataFrame(school_data_complete, columns=['school_name', 'budget', 'size'])\n",
    "\n",
    "# Modify to have unique school name values\n",
    "schools_budget_unique = budget_all_students.drop_duplicates(subset=[\"school_name\"], keep='first').reset_index()\n"
   ]
  },
  {
   "cell_type": "code",
   "execution_count": 87,
   "id": "a5108bd8",
   "metadata": {},
   "outputs": [],
   "source": [
    "# Find total budget\n",
    "budget_total = schools_budget_unique[\"budget\"].sum()\n",
    "# Calculate and Add budget percentage\n",
    "#budget_percentage = [(schools_budget_unique[\"budget\"] / budget_total)*100]\n",
    "\n",
    "#schools_budget_unique.insert(4,\"percent_of_total_budget\",[budget_percentage],True)\n",
    "#print(schools_budget_unique)\n",
    "\n"
   ]
  },
  {
   "cell_type": "code",
   "execution_count": 89,
   "id": "8e66c107",
   "metadata": {},
   "outputs": [
    {
     "name": "stdout",
     "output_type": "stream",
     "text": [
      "              school_name  avg_reading_score  avg_reading_score\n",
      "0      Bailey High School          81.033963          77.048432\n",
      "1     Cabrera High School          83.975780          83.061895\n",
      "2    Figueroa High School          81.158020          76.711767\n",
      "3        Ford High School          80.746258          77.102592\n",
      "4     Griffin High School          83.816757          83.351499\n",
      "5   Hernandez High School          80.934412          77.289752\n",
      "6      Holden High School          83.814988          83.803279\n",
      "7       Huang High School          81.182722          76.629414\n",
      "8     Johnson High School          80.966394          77.072464\n",
      "9        Pena High School          84.044699          83.839917\n",
      "10  Rodriguez High School          80.744686          76.842711\n",
      "11    Shelton High School          83.725724          83.359455\n",
      "12     Thomas High School          83.848930          83.418349\n",
      "13     Wilson High School          83.989488          83.274201\n",
      "14     Wright High School          83.955000          83.682222\n"
     ]
    },
    {
     "name": "stderr",
     "output_type": "stream",
     "text": [
      "/var/folders/lx/kd28k3fd73zdt8856kql3c7m0000gn/T/ipykernel_4663/2880982292.py:2: FutureWarning: Indexing with multiple keys (implicitly converted to a tuple of keys) will be deprecated, use a list instead.\n",
      "  school_summary = school_data_complete.groupby(['school_name'])['reading_score','math_score'].mean().reset_index()\n"
     ]
    }
   ],
   "source": [
    "#finding math and reading averages by school\n",
    "school_summary = school_data_complete.groupby(['school_name'])['reading_score','math_score'].mean().reset_index()\n",
    "school_summary = school_summary.rename(columns={\"reading_score\": \"avg_reading_score\", \n",
    "                                    \"math_score\": \"avg_reading_score\"})\n",
    "print(school_summary)"
   ]
  },
  {
   "cell_type": "code",
   "execution_count": null,
   "id": "a78f06a8",
   "metadata": {},
   "outputs": [],
   "source": []
  }
 ],
 "metadata": {
  "kernelspec": {
   "display_name": "Python 3 (ipykernel)",
   "language": "python",
   "name": "python3"
  },
  "language_info": {
   "codemirror_mode": {
    "name": "ipython",
    "version": 3
   },
   "file_extension": ".py",
   "mimetype": "text/x-python",
   "name": "python",
   "nbconvert_exporter": "python",
   "pygments_lexer": "ipython3",
   "version": "3.9.13"
  }
 },
 "nbformat": 4,
 "nbformat_minor": 5
}
